{
  "nbformat": 4,
  "nbformat_minor": 0,
  "metadata": {
    "colab": {
      "provenance": []
    },
    "kernelspec": {
      "name": "python3",
      "display_name": "Python 3"
    }
  },
  "cells": [
    {
      "cell_type": "markdown",
      "metadata": {
        "id": "UEdsSSoYTcld"
      },
      "source": [
        "# Cross Validation Motivation\n",
        "The purpose of cross validation is two fold:\n",
        "1. To build a model on limited data\n",
        "2. To find the optimal hyperparameters for your model\n",
        "\n",
        "We will be demonstrating both these uses in this tutorial"
      ]
    },
    {
      "cell_type": "markdown",
      "metadata": {
        "id": "wGX1f9XZVQMf"
      },
      "source": [
        "# Uploading the dataset and simple preprocessing"
      ]
    },
    {
      "cell_type": "markdown",
      "metadata": {
        "id": "aAFfrKLCcwLr"
      },
      "source": [
        "**Important note:** if at any point you cannot download a Python package in this tutorial, run the command \"!pip install\" with the package name right after. For example, if you want to install the Python package *pandas* write \"!pip install pandas\" and run the cell."
      ]
    },
    {
      "cell_type": "markdown",
      "metadata": {
        "id": "3LVT3lc-UB55"
      },
      "source": [
        "Firstly let's consider a dataset where we don't have enough data for a traditional train/test split.\n",
        "Download the Heart Failure dataset from https://www.kaggle.com/andrewmvd/heart-failure-clinical-data.\n",
        "\n",
        "Ultimately the task is to predict death from heart failure when given multiple features like age, sex, whether or not a person has diabetes, whether or not a person smokes, and other biological features.\n",
        "\n",
        "This is a binary classification problem, with death represented as (1) and no death represented as (0).\n",
        "\n",
        "Upon running the cell below you will be prompted to upload your dataset."
      ]
    },
    {
      "cell_type": "code",
      "metadata": {
        "colab": {
          "resources": {
            "http://localhost:8080/nbextensions/google.colab/files.js": {
              "data": "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",
              "ok": true,
              "headers": [
                [
                  "content-type",
                  "application/javascript"
                ]
              ],
              "status": 200,
              "status_text": ""
            }
          },
          "base_uri": "https://localhost:8080/",
          "height": 72
        },
        "id": "Rm3W4P6xT7Bp",
        "outputId": "5d815c7d-b9bb-49d5-d5f5-edc2b49a85e1"
      },
      "source": [
        "from google.colab import files\n",
        "uploaded=files.upload()"
      ],
      "execution_count": null,
      "outputs": [
        {
          "output_type": "display_data",
          "data": {
            "text/html": [
              "\n",
              "     <input type=\"file\" id=\"files-de9792c3-2afa-42ad-91dd-78c0816f3688\" name=\"files[]\" multiple disabled\n",
              "        style=\"border:none\" />\n",
              "     <output id=\"result-de9792c3-2afa-42ad-91dd-78c0816f3688\">\n",
              "      Upload widget is only available when the cell has been executed in the\n",
              "      current browser session. Please rerun this cell to enable.\n",
              "      </output>\n",
              "      <script src=\"/nbextensions/google.colab/files.js\"></script> "
            ],
            "text/plain": [
              "<IPython.core.display.HTML object>"
            ]
          },
          "metadata": {
            "tags": []
          }
        },
        {
          "output_type": "stream",
          "text": [
            "Saving heart_failure_clinical_records_dataset.csv to heart_failure_clinical_records_dataset (1).csv\n"
          ],
          "name": "stdout"
        }
      ]
    },
    {
      "cell_type": "code",
      "metadata": {
        "colab": {
          "base_uri": "https://localhost:8080/",
          "height": 379
        },
        "id": "awvTBHziUppF",
        "outputId": "beed5dc8-0a98-441b-95fb-00ada7ebcf60"
      },
      "source": [
        "#Pandas is a popular Python library that works with datasets. We will use this library to load the heart failure dataset\n",
        "import pandas as pd\n",
        "\n",
        "#Read in the csv dataset as HF\n",
        "HF=pd.read_csv(\"heart_failure_clinical_records_dataset.csv\")\n",
        "#Tip: if you start typing \"hea\" and then press the \"tab\" key, Python will autofill the dataset name\n",
        "#Note: the csv dataset name must be enclosed in \"\"\n",
        "\n",
        "#Specify Pandas options so that we can see all the rows and columns of the dataset clearly\n",
        "pd.set_option('display.max_columns', None)\n",
        "pd.set_option('display.max_rows', None)\n",
        "\n",
        "#Inspect the first 10 rows of the dataset\n",
        "HF.head(10)"
      ],
      "execution_count": null,
      "outputs": [
        {
          "output_type": "execute_result",
          "data": {
            "text/html": [
              "<div>\n",
              "<style scoped>\n",
              "    .dataframe tbody tr th:only-of-type {\n",
              "        vertical-align: middle;\n",
              "    }\n",
              "\n",
              "    .dataframe tbody tr th {\n",
              "        vertical-align: top;\n",
              "    }\n",
              "\n",
              "    .dataframe thead th {\n",
              "        text-align: right;\n",
              "    }\n",
              "</style>\n",
              "<table border=\"1\" class=\"dataframe\">\n",
              "  <thead>\n",
              "    <tr style=\"text-align: right;\">\n",
              "      <th></th>\n",
              "      <th>age</th>\n",
              "      <th>anaemia</th>\n",
              "      <th>creatinine_phosphokinase</th>\n",
              "      <th>diabetes</th>\n",
              "      <th>ejection_fraction</th>\n",
              "      <th>high_blood_pressure</th>\n",
              "      <th>platelets</th>\n",
              "      <th>serum_creatinine</th>\n",
              "      <th>serum_sodium</th>\n",
              "      <th>sex</th>\n",
              "      <th>smoking</th>\n",
              "      <th>time</th>\n",
              "      <th>DEATH_EVENT</th>\n",
              "    </tr>\n",
              "  </thead>\n",
              "  <tbody>\n",
              "    <tr>\n",
              "      <th>0</th>\n",
              "      <td>75.0</td>\n",
              "      <td>0</td>\n",
              "      <td>582</td>\n",
              "      <td>0</td>\n",
              "      <td>20</td>\n",
              "      <td>1</td>\n",
              "      <td>265000.00</td>\n",
              "      <td>1.9</td>\n",
              "      <td>130</td>\n",
              "      <td>1</td>\n",
              "      <td>0</td>\n",
              "      <td>4</td>\n",
              "      <td>1</td>\n",
              "    </tr>\n",
              "    <tr>\n",
              "      <th>1</th>\n",
              "      <td>55.0</td>\n",
              "      <td>0</td>\n",
              "      <td>7861</td>\n",
              "      <td>0</td>\n",
              "      <td>38</td>\n",
              "      <td>0</td>\n",
              "      <td>263358.03</td>\n",
              "      <td>1.1</td>\n",
              "      <td>136</td>\n",
              "      <td>1</td>\n",
              "      <td>0</td>\n",
              "      <td>6</td>\n",
              "      <td>1</td>\n",
              "    </tr>\n",
              "    <tr>\n",
              "      <th>2</th>\n",
              "      <td>65.0</td>\n",
              "      <td>0</td>\n",
              "      <td>146</td>\n",
              "      <td>0</td>\n",
              "      <td>20</td>\n",
              "      <td>0</td>\n",
              "      <td>162000.00</td>\n",
              "      <td>1.3</td>\n",
              "      <td>129</td>\n",
              "      <td>1</td>\n",
              "      <td>1</td>\n",
              "      <td>7</td>\n",
              "      <td>1</td>\n",
              "    </tr>\n",
              "    <tr>\n",
              "      <th>3</th>\n",
              "      <td>50.0</td>\n",
              "      <td>1</td>\n",
              "      <td>111</td>\n",
              "      <td>0</td>\n",
              "      <td>20</td>\n",
              "      <td>0</td>\n",
              "      <td>210000.00</td>\n",
              "      <td>1.9</td>\n",
              "      <td>137</td>\n",
              "      <td>1</td>\n",
              "      <td>0</td>\n",
              "      <td>7</td>\n",
              "      <td>1</td>\n",
              "    </tr>\n",
              "    <tr>\n",
              "      <th>4</th>\n",
              "      <td>65.0</td>\n",
              "      <td>1</td>\n",
              "      <td>160</td>\n",
              "      <td>1</td>\n",
              "      <td>20</td>\n",
              "      <td>0</td>\n",
              "      <td>327000.00</td>\n",
              "      <td>2.7</td>\n",
              "      <td>116</td>\n",
              "      <td>0</td>\n",
              "      <td>0</td>\n",
              "      <td>8</td>\n",
              "      <td>1</td>\n",
              "    </tr>\n",
              "    <tr>\n",
              "      <th>5</th>\n",
              "      <td>90.0</td>\n",
              "      <td>1</td>\n",
              "      <td>47</td>\n",
              "      <td>0</td>\n",
              "      <td>40</td>\n",
              "      <td>1</td>\n",
              "      <td>204000.00</td>\n",
              "      <td>2.1</td>\n",
              "      <td>132</td>\n",
              "      <td>1</td>\n",
              "      <td>1</td>\n",
              "      <td>8</td>\n",
              "      <td>1</td>\n",
              "    </tr>\n",
              "    <tr>\n",
              "      <th>6</th>\n",
              "      <td>75.0</td>\n",
              "      <td>1</td>\n",
              "      <td>246</td>\n",
              "      <td>0</td>\n",
              "      <td>15</td>\n",
              "      <td>0</td>\n",
              "      <td>127000.00</td>\n",
              "      <td>1.2</td>\n",
              "      <td>137</td>\n",
              "      <td>1</td>\n",
              "      <td>0</td>\n",
              "      <td>10</td>\n",
              "      <td>1</td>\n",
              "    </tr>\n",
              "    <tr>\n",
              "      <th>7</th>\n",
              "      <td>60.0</td>\n",
              "      <td>1</td>\n",
              "      <td>315</td>\n",
              "      <td>1</td>\n",
              "      <td>60</td>\n",
              "      <td>0</td>\n",
              "      <td>454000.00</td>\n",
              "      <td>1.1</td>\n",
              "      <td>131</td>\n",
              "      <td>1</td>\n",
              "      <td>1</td>\n",
              "      <td>10</td>\n",
              "      <td>1</td>\n",
              "    </tr>\n",
              "    <tr>\n",
              "      <th>8</th>\n",
              "      <td>65.0</td>\n",
              "      <td>0</td>\n",
              "      <td>157</td>\n",
              "      <td>0</td>\n",
              "      <td>65</td>\n",
              "      <td>0</td>\n",
              "      <td>263358.03</td>\n",
              "      <td>1.5</td>\n",
              "      <td>138</td>\n",
              "      <td>0</td>\n",
              "      <td>0</td>\n",
              "      <td>10</td>\n",
              "      <td>1</td>\n",
              "    </tr>\n",
              "    <tr>\n",
              "      <th>9</th>\n",
              "      <td>80.0</td>\n",
              "      <td>1</td>\n",
              "      <td>123</td>\n",
              "      <td>0</td>\n",
              "      <td>35</td>\n",
              "      <td>1</td>\n",
              "      <td>388000.00</td>\n",
              "      <td>9.4</td>\n",
              "      <td>133</td>\n",
              "      <td>1</td>\n",
              "      <td>1</td>\n",
              "      <td>10</td>\n",
              "      <td>1</td>\n",
              "    </tr>\n",
              "  </tbody>\n",
              "</table>\n",
              "</div>"
            ],
            "text/plain": [
              "    age  anaemia  creatinine_phosphokinase  diabetes  ejection_fraction  \\\n",
              "0  75.0        0                       582         0                 20   \n",
              "1  55.0        0                      7861         0                 38   \n",
              "2  65.0        0                       146         0                 20   \n",
              "3  50.0        1                       111         0                 20   \n",
              "4  65.0        1                       160         1                 20   \n",
              "5  90.0        1                        47         0                 40   \n",
              "6  75.0        1                       246         0                 15   \n",
              "7  60.0        1                       315         1                 60   \n",
              "8  65.0        0                       157         0                 65   \n",
              "9  80.0        1                       123         0                 35   \n",
              "\n",
              "   high_blood_pressure  platelets  serum_creatinine  serum_sodium  sex  \\\n",
              "0                    1  265000.00               1.9           130    1   \n",
              "1                    0  263358.03               1.1           136    1   \n",
              "2                    0  162000.00               1.3           129    1   \n",
              "3                    0  210000.00               1.9           137    1   \n",
              "4                    0  327000.00               2.7           116    0   \n",
              "5                    1  204000.00               2.1           132    1   \n",
              "6                    0  127000.00               1.2           137    1   \n",
              "7                    0  454000.00               1.1           131    1   \n",
              "8                    0  263358.03               1.5           138    0   \n",
              "9                    1  388000.00               9.4           133    1   \n",
              "\n",
              "   smoking  time  DEATH_EVENT  \n",
              "0        0     4            1  \n",
              "1        0     6            1  \n",
              "2        1     7            1  \n",
              "3        0     7            1  \n",
              "4        0     8            1  \n",
              "5        1     8            1  \n",
              "6        0    10            1  \n",
              "7        1    10            1  \n",
              "8        0    10            1  \n",
              "9        1    10            1  "
            ]
          },
          "metadata": {
            "tags": []
          },
          "execution_count": 3
        }
      ]
    },
    {
      "cell_type": "markdown",
      "metadata": {
        "id": "06qDwyUYWwSS"
      },
      "source": [
        "Let's inspect some important features of this dataset.\n",
        "1. How many missing values in this dataset?\n",
        "2. What is the distribution of deaths/no deaths?\n",
        "3. Are there any variables that should be removed?"
      ]
    },
    {
      "cell_type": "code",
      "metadata": {
        "colab": {
          "base_uri": "https://localhost:8080/"
        },
        "id": "1t48x1PMWfiR",
        "outputId": "3c3cb5e1-71fb-4e3b-d3a6-34610b0ec0ec"
      },
      "source": [
        "#See if there are any missing values in the dataset\n",
        "HF.isnull().sum()\n",
        "#As we see a value for 0 for all columns, we conclude that there are no missing values in this dataset"
      ],
      "execution_count": null,
      "outputs": [
        {
          "output_type": "execute_result",
          "data": {
            "text/plain": [
              "age                         0\n",
              "anaemia                     0\n",
              "creatinine_phosphokinase    0\n",
              "diabetes                    0\n",
              "ejection_fraction           0\n",
              "high_blood_pressure         0\n",
              "platelets                   0\n",
              "serum_creatinine            0\n",
              "serum_sodium                0\n",
              "sex                         0\n",
              "smoking                     0\n",
              "time                        0\n",
              "DEATH_EVENT                 0\n",
              "dtype: int64"
            ]
          },
          "metadata": {
            "tags": []
          },
          "execution_count": 4
        }
      ]
    },
    {
      "cell_type": "code",
      "metadata": {
        "colab": {
          "base_uri": "https://localhost:8080/"
        },
        "id": "4GbCPrsvWtiQ",
        "outputId": "7955f3ce-c03a-4c49-a685-143e2920c28f"
      },
      "source": [
        "#Now let's check the distribution of deaths/no deaths\n",
        "round(HF[\"DEATH_EVENT\"].value_counts(normalize=True),2)"
      ],
      "execution_count": null,
      "outputs": [
        {
          "output_type": "execute_result",
          "data": {
            "text/plain": [
              "0    0.68\n",
              "1    0.32\n",
              "Name: DEATH_EVENT, dtype: float64"
            ]
          },
          "metadata": {
            "tags": []
          },
          "execution_count": 5
        }
      ]
    },
    {
      "cell_type": "markdown",
      "metadata": {
        "id": "9MQ0nwH3ZDH3"
      },
      "source": [
        "Important note: Hence there are about 32% of individiuals in this dataset who died from heart disease. Thus, this dataset is unbalanced and we need to take this into consideration when evaluating a model."
      ]
    },
    {
      "cell_type": "markdown",
      "metadata": {
        "id": "aWq4GFeLaUPY"
      },
      "source": [
        "Definition of response variable: whether the patient died during the followup period.\n",
        "\n",
        "One of the variables is time which represents the followup period. Intuitively we would expect the length of followup period to be highly correlated with the response variable. Hence we will remove this variable from the analysis"
      ]
    },
    {
      "cell_type": "code",
      "metadata": {
        "colab": {
          "base_uri": "https://localhost:8080/"
        },
        "id": "nXR9bVlleGT-",
        "outputId": "2cc10ddd-c9aa-48e7-af6c-4791171c19d5"
      },
      "source": [
        "#Define a new dataset df which excludes the time variable. This is the dataset\n",
        "# that we will be modeling from\n",
        "df=HF.drop([\"time\"],axis=1)\n",
        "#Inspect the number of observations and number of total variables in the dataset\n",
        "df.shape"
      ],
      "execution_count": null,
      "outputs": [
        {
          "output_type": "execute_result",
          "data": {
            "text/plain": [
              "(299, 12)"
            ]
          },
          "metadata": {
            "tags": []
          },
          "execution_count": 6
        }
      ]
    },
    {
      "cell_type": "markdown",
      "metadata": {
        "id": "plBWM0glgO8h"
      },
      "source": [
        "From 13 total variables (including the response variable) we have 12 variables (including the response variable). Furthermore there are 299 people in this\n",
        "dataset."
      ]
    },
    {
      "cell_type": "code",
      "metadata": {
        "colab": {
          "base_uri": "https://localhost:8080/",
          "height": 379
        },
        "id": "RFYAyAo9iiY8",
        "outputId": "e7e8e8cb-8800-4f0b-9899-abd2564c9279"
      },
      "source": [
        "df.head(10)"
      ],
      "execution_count": null,
      "outputs": [
        {
          "output_type": "execute_result",
          "data": {
            "text/html": [
              "<div>\n",
              "<style scoped>\n",
              "    .dataframe tbody tr th:only-of-type {\n",
              "        vertical-align: middle;\n",
              "    }\n",
              "\n",
              "    .dataframe tbody tr th {\n",
              "        vertical-align: top;\n",
              "    }\n",
              "\n",
              "    .dataframe thead th {\n",
              "        text-align: right;\n",
              "    }\n",
              "</style>\n",
              "<table border=\"1\" class=\"dataframe\">\n",
              "  <thead>\n",
              "    <tr style=\"text-align: right;\">\n",
              "      <th></th>\n",
              "      <th>age</th>\n",
              "      <th>anaemia</th>\n",
              "      <th>creatinine_phosphokinase</th>\n",
              "      <th>diabetes</th>\n",
              "      <th>ejection_fraction</th>\n",
              "      <th>high_blood_pressure</th>\n",
              "      <th>platelets</th>\n",
              "      <th>serum_creatinine</th>\n",
              "      <th>serum_sodium</th>\n",
              "      <th>sex</th>\n",
              "      <th>smoking</th>\n",
              "      <th>DEATH_EVENT</th>\n",
              "    </tr>\n",
              "  </thead>\n",
              "  <tbody>\n",
              "    <tr>\n",
              "      <th>0</th>\n",
              "      <td>75.0</td>\n",
              "      <td>0</td>\n",
              "      <td>582</td>\n",
              "      <td>0</td>\n",
              "      <td>20</td>\n",
              "      <td>1</td>\n",
              "      <td>265000.00</td>\n",
              "      <td>1.9</td>\n",
              "      <td>130</td>\n",
              "      <td>1</td>\n",
              "      <td>0</td>\n",
              "      <td>1</td>\n",
              "    </tr>\n",
              "    <tr>\n",
              "      <th>1</th>\n",
              "      <td>55.0</td>\n",
              "      <td>0</td>\n",
              "      <td>7861</td>\n",
              "      <td>0</td>\n",
              "      <td>38</td>\n",
              "      <td>0</td>\n",
              "      <td>263358.03</td>\n",
              "      <td>1.1</td>\n",
              "      <td>136</td>\n",
              "      <td>1</td>\n",
              "      <td>0</td>\n",
              "      <td>1</td>\n",
              "    </tr>\n",
              "    <tr>\n",
              "      <th>2</th>\n",
              "      <td>65.0</td>\n",
              "      <td>0</td>\n",
              "      <td>146</td>\n",
              "      <td>0</td>\n",
              "      <td>20</td>\n",
              "      <td>0</td>\n",
              "      <td>162000.00</td>\n",
              "      <td>1.3</td>\n",
              "      <td>129</td>\n",
              "      <td>1</td>\n",
              "      <td>1</td>\n",
              "      <td>1</td>\n",
              "    </tr>\n",
              "    <tr>\n",
              "      <th>3</th>\n",
              "      <td>50.0</td>\n",
              "      <td>1</td>\n",
              "      <td>111</td>\n",
              "      <td>0</td>\n",
              "      <td>20</td>\n",
              "      <td>0</td>\n",
              "      <td>210000.00</td>\n",
              "      <td>1.9</td>\n",
              "      <td>137</td>\n",
              "      <td>1</td>\n",
              "      <td>0</td>\n",
              "      <td>1</td>\n",
              "    </tr>\n",
              "    <tr>\n",
              "      <th>4</th>\n",
              "      <td>65.0</td>\n",
              "      <td>1</td>\n",
              "      <td>160</td>\n",
              "      <td>1</td>\n",
              "      <td>20</td>\n",
              "      <td>0</td>\n",
              "      <td>327000.00</td>\n",
              "      <td>2.7</td>\n",
              "      <td>116</td>\n",
              "      <td>0</td>\n",
              "      <td>0</td>\n",
              "      <td>1</td>\n",
              "    </tr>\n",
              "    <tr>\n",
              "      <th>5</th>\n",
              "      <td>90.0</td>\n",
              "      <td>1</td>\n",
              "      <td>47</td>\n",
              "      <td>0</td>\n",
              "      <td>40</td>\n",
              "      <td>1</td>\n",
              "      <td>204000.00</td>\n",
              "      <td>2.1</td>\n",
              "      <td>132</td>\n",
              "      <td>1</td>\n",
              "      <td>1</td>\n",
              "      <td>1</td>\n",
              "    </tr>\n",
              "    <tr>\n",
              "      <th>6</th>\n",
              "      <td>75.0</td>\n",
              "      <td>1</td>\n",
              "      <td>246</td>\n",
              "      <td>0</td>\n",
              "      <td>15</td>\n",
              "      <td>0</td>\n",
              "      <td>127000.00</td>\n",
              "      <td>1.2</td>\n",
              "      <td>137</td>\n",
              "      <td>1</td>\n",
              "      <td>0</td>\n",
              "      <td>1</td>\n",
              "    </tr>\n",
              "    <tr>\n",
              "      <th>7</th>\n",
              "      <td>60.0</td>\n",
              "      <td>1</td>\n",
              "      <td>315</td>\n",
              "      <td>1</td>\n",
              "      <td>60</td>\n",
              "      <td>0</td>\n",
              "      <td>454000.00</td>\n",
              "      <td>1.1</td>\n",
              "      <td>131</td>\n",
              "      <td>1</td>\n",
              "      <td>1</td>\n",
              "      <td>1</td>\n",
              "    </tr>\n",
              "    <tr>\n",
              "      <th>8</th>\n",
              "      <td>65.0</td>\n",
              "      <td>0</td>\n",
              "      <td>157</td>\n",
              "      <td>0</td>\n",
              "      <td>65</td>\n",
              "      <td>0</td>\n",
              "      <td>263358.03</td>\n",
              "      <td>1.5</td>\n",
              "      <td>138</td>\n",
              "      <td>0</td>\n",
              "      <td>0</td>\n",
              "      <td>1</td>\n",
              "    </tr>\n",
              "    <tr>\n",
              "      <th>9</th>\n",
              "      <td>80.0</td>\n",
              "      <td>1</td>\n",
              "      <td>123</td>\n",
              "      <td>0</td>\n",
              "      <td>35</td>\n",
              "      <td>1</td>\n",
              "      <td>388000.00</td>\n",
              "      <td>9.4</td>\n",
              "      <td>133</td>\n",
              "      <td>1</td>\n",
              "      <td>1</td>\n",
              "      <td>1</td>\n",
              "    </tr>\n",
              "  </tbody>\n",
              "</table>\n",
              "</div>"
            ],
            "text/plain": [
              "    age  anaemia  creatinine_phosphokinase  diabetes  ejection_fraction  \\\n",
              "0  75.0        0                       582         0                 20   \n",
              "1  55.0        0                      7861         0                 38   \n",
              "2  65.0        0                       146         0                 20   \n",
              "3  50.0        1                       111         0                 20   \n",
              "4  65.0        1                       160         1                 20   \n",
              "5  90.0        1                        47         0                 40   \n",
              "6  75.0        1                       246         0                 15   \n",
              "7  60.0        1                       315         1                 60   \n",
              "8  65.0        0                       157         0                 65   \n",
              "9  80.0        1                       123         0                 35   \n",
              "\n",
              "   high_blood_pressure  platelets  serum_creatinine  serum_sodium  sex  \\\n",
              "0                    1  265000.00               1.9           130    1   \n",
              "1                    0  263358.03               1.1           136    1   \n",
              "2                    0  162000.00               1.3           129    1   \n",
              "3                    0  210000.00               1.9           137    1   \n",
              "4                    0  327000.00               2.7           116    0   \n",
              "5                    1  204000.00               2.1           132    1   \n",
              "6                    0  127000.00               1.2           137    1   \n",
              "7                    0  454000.00               1.1           131    1   \n",
              "8                    0  263358.03               1.5           138    0   \n",
              "9                    1  388000.00               9.4           133    1   \n",
              "\n",
              "   smoking  DEATH_EVENT  \n",
              "0        0            1  \n",
              "1        0            1  \n",
              "2        1            1  \n",
              "3        0            1  \n",
              "4        0            1  \n",
              "5        1            1  \n",
              "6        0            1  \n",
              "7        1            1  \n",
              "8        0            1  \n",
              "9        1            1  "
            ]
          },
          "metadata": {
            "tags": []
          },
          "execution_count": 14
        }
      ]
    },
    {
      "cell_type": "markdown",
      "metadata": {
        "id": "YTdYbzjVjcYo"
      },
      "source": [
        "Let's check if there's any evidence for multicollinearity in the dataset"
      ]
    },
    {
      "cell_type": "code",
      "metadata": {
        "colab": {
          "base_uri": "https://localhost:8080/",
          "height": 624
        },
        "id": "tPkuZEydhsNT",
        "outputId": "b236a766-d00d-4627-ad6b-15c2d2e12a41"
      },
      "source": [
        "import matplotlib.pyplot as plt\n",
        "import seaborn as sn\n",
        "plt.figure(figsize=(12,8))\n",
        "corrMatrix=df.corr()\n",
        "sn.heatmap(corrMatrix, annot=True)\n",
        "plt.title(\"Correlation Matrix for each Variable\",fontsize=20)\n",
        "plt.show()"
      ],
      "execution_count": null,
      "outputs": [
        {
          "output_type": "display_data",
          "data": {
            "image/png": "[encoded data removed]",
            "text/plain": [
              "<Figure size 864x576 with 2 Axes>"
            ]
          },
          "metadata": {
            "tags": [],
            "needs_background": "light"
          }
        }
      ]
    },
    {
      "cell_type": "markdown",
      "metadata": {
        "id": "gE1u_3AnfTKo"
      },
      "source": [
        "#Cross Validation Application #1: Building a model on limited data"
      ]
    },
    {
      "cell_type": "markdown",
      "metadata": {
        "id": "wfx5hVTifmjZ"
      },
      "source": [
        "For this application of cross validation, we will build a simple logistic regression model to predict the probability of a person dying from heart failure. For each person the model will output the probability of dying from heart failure. If that probability is greater than a certain cutoff then the model will classify that person as a death from heart failure.\n",
        "\n",
        "Note: Choosing the right cutoff is a complicated and interesting topic that takes into account the false positive / false negative rates for each classification cutoff value. This is a topic for another tutorial so for the purposes of this cross validation tutorial we will use a probability cutoff of 0.5. For all individuals in the dataset, if the model outputs a probability of death that is greater than 0.5 we will classify that person as a death from heart disease."
      ]
    },
    {
      "cell_type": "markdown",
      "metadata": {
        "id": "6hFhbBREfHZo"
      },
      "source": [
        "## What if we considered the traditional train/test split method?"
      ]
    },
    {
      "cell_type": "code",
      "metadata": {
        "id": "X-qEEF3Bepyl"
      },
      "source": [
        "#To make the code less cumbersome, let's denote the feature variables and response variable in separate forms\n",
        "features=df.drop([\"DEATH_EVENT\"],axis=1)\n",
        "response=df[\"DEATH_EVENT\"]\n",
        "\n",
        "\n",
        "#Import the library that will randomly divide our data into training and testing data\n",
        "from sklearn.model_selection import train_test_split\n",
        "\n",
        "X_train,X_test,y_train,y_test=train_test_split(features,response,test_size=0.3,random_state=42)\n",
        "#We want to create training and testing splits of the features and the response variable. We will apply a test_size of 0.3, meaning that we want our\n",
        "#testing data to be 30% of our original data. The random_state argument is a seed value which will randomly partition the data into training and testing.\n",
        "#This argument can be any number you like.\n"
      ],
      "execution_count": null,
      "outputs": []
    },
    {
      "cell_type": "markdown",
      "metadata": {
        "id": "lV66NhzroG27"
      },
      "source": [
        "Let's see how much data is in our training and testing partitions"
      ]
    },
    {
      "cell_type": "code",
      "metadata": {
        "colab": {
          "base_uri": "https://localhost:8080/"
        },
        "id": "r3cewH8YoN9m",
        "outputId": "8a4080d0-1df6-4942-9069-9971ef82f0bc"
      },
      "source": [
        "print(\"The number of people in our training dataset is: \"+str(X_train.shape[0]))\n",
        "print(\"The number of people in our testing dataset is: \"+str(X_test.shape[0]))"
      ],
      "execution_count": null,
      "outputs": [
        {
          "output_type": "stream",
          "text": [
            "The number of people in our training dataset is: 209\n",
            "The number of people in our testing dataset is: 90\n"
          ],
          "name": "stdout"
        }
      ]
    },
    {
      "cell_type": "markdown",
      "metadata": {
        "id": "dQs-UQxkIdD5"
      },
      "source": [
        "See how many deaths are in the training and testing dataset"
      ]
    },
    {
      "cell_type": "code",
      "metadata": {
        "colab": {
          "base_uri": "https://localhost:8080/"
        },
        "id": "f6jKeIngIQLy",
        "outputId": "5f631e9a-e7fe-427f-9d1c-f66d73f04232"
      },
      "source": [
        "print(\"The number of deaths (positive cases) in our training dataset is: \"+str(round(((y_train.sum())/len(y_train))*100,2))+\"%\")\n",
        "print()\n",
        "print(\"The number of deaths (positive cases) in our testing dataset is: \"+str(round(((y_test.sum())/len(y_test))*100,2))+\"%\")"
      ],
      "execution_count": null,
      "outputs": [
        {
          "output_type": "stream",
          "text": [
            "The number of deaths (positive cases) in our training dataset is: 28.23%\n",
            "\n",
            "The number of deaths (positive cases) in our testing dataset is: 41.11%\n"
          ],
          "name": "stdout"
        }
      ]
    },
    {
      "cell_type": "markdown",
      "metadata": {
        "id": "HrgvNThjmHkW"
      },
      "source": [
        "Let's build the model"
      ]
    },
    {
      "cell_type": "code",
      "metadata": {
        "colab": {
          "base_uri": "https://localhost:8080/"
        },
        "id": "TyUeIIHOmJNW",
        "outputId": "27069f5a-2be1-4d5b-b47c-4bb91dfa58f9"
      },
      "source": [
        "#Import the logistic regression framework\n",
        "from sklearn.linear_model import LogisticRegression\n",
        "\n",
        "#Metrics is the library which helps us determine model performance. The metric\n",
        "#we will be using is balanced accuracy, which is like total accuracy but accounts\n",
        "#for the imbalance of death/nondeath in our data\n",
        "from sklearn import metrics\n",
        "\n",
        "#We will apply an argument of max_iter of 1000 which tells the function that if\n",
        "#the algorithm cannot find an optimal solution within those 1000 iterations then it should terminate the program and return an error\n",
        "classifier=LogisticRegression(max_iter=1000)\n",
        "\n",
        "#Train our logistic regression model on the training data\n",
        "classifier.fit(X_train,y_train)\n",
        "\n",
        "#Evaluate the performance of the trained logistic regression model on the testing data\n",
        "predictions=list(classifier.predict(X_test))\n",
        "actual=list(y_test)\n",
        "\n",
        "#Calculate the balanced accuracy score of our testing data\n",
        "AccScore=metrics.balanced_accuracy_score(actual, predictions)\n",
        "print(\"The model's balanced accuracy on the testing data is: \"+str(round(AccScore*100,2))+\"%\")"
      ],
      "execution_count": null,
      "outputs": [
        {
          "output_type": "stream",
          "text": [
            "The model's balanced accuracy on the testing data is: 60.68%\n"
          ],
          "name": "stdout"
        }
      ]
    },
    {
      "cell_type": "markdown",
      "metadata": {
        "id": "8Ejs9Bekn-ck"
      },
      "source": [
        "There are multiple problems with this approach:\n",
        "\n",
        "1. 299 people as an overall dataset is not a lot of people. Furthermore, to build the model we are again reducing the amount of people to learn from to 299*0.7= about 209, which is even less.\n",
        "\n",
        "2. The balanced accuracy of the model is highly dependent on the random seed we use. For example, consider the following:\n"
      ]
    },
    {
      "cell_type": "code",
      "metadata": {
        "colab": {
          "base_uri": "https://localhost:8080/"
        },
        "id": "0MvaN29XJ_y_",
        "outputId": "ee7a910b-067c-44dd-9ee7-a6832094eddd"
      },
      "source": [
        "X_train,X_test,y_train,y_test=train_test_split(features,response,test_size=0.3,random_state=42)\n",
        "print(\"The number of deaths (positive cases) in our training dataset is: \"+str(round(((y_train.sum())/len(y_train))*100,2))+\"%\")\n",
        "print()\n",
        "print(\"The number of deaths (positive cases) in our testing dataset is: \"+str(round(((y_test.sum())/len(y_test))*100,2))+\"%\")\n",
        "print()\n",
        "classifier=LogisticRegression(max_iter=1000)\n",
        "\n",
        "#Train our logistic regression model on the training data\n",
        "classifier.fit(X_train,y_train)\n",
        "\n",
        "#Evaluate the performance of the trained logistic regression model on the testing data\n",
        "predictions=list(classifier.predict(X_test))\n",
        "actual=list(y_test)\n",
        "\n",
        "#Calculate the balanced accuracy score of our testing data\n",
        "AccScore=metrics.balanced_accuracy_score(actual, predictions)\n",
        "print(\"The model's balanced accuracy on the testing data is: \"+str(round(AccScore*100,2))+\"%\")"
      ],
      "execution_count": null,
      "outputs": [
        {
          "output_type": "stream",
          "text": [
            "The number of deaths (positive cases) in our training dataset is: 28.23%\n",
            "\n",
            "The number of deaths (positive cases) in our testing dataset is: 41.11%\n",
            "\n",
            "The model's balanced accuracy on the testing data is: 60.68%\n"
          ],
          "name": "stdout"
        }
      ]
    },
    {
      "cell_type": "markdown",
      "metadata": {
        "id": "EJyVRHSHKWGD"
      },
      "source": [
        "Here we see that there there's a greater proportion of positive cases in the testing dataset than in the training dataset. Hence, the classifier is not given enough data to adequately learn what features contribute to a death classification. It's like walking in for a calculus test and spending less than a third of your time reviewing limits but about 40% of your exam is on something unrelated like integration by parts. As a result you will perform poorly on your exam because you didn't study the right material."
      ]
    },
    {
      "cell_type": "markdown",
      "metadata": {
        "id": "94nQY7gjLAVm"
      },
      "source": [
        "Now consider a different random seed:"
      ]
    },
    {
      "cell_type": "code",
      "metadata": {
        "colab": {
          "base_uri": "https://localhost:8080/"
        },
        "id": "8THSY6ZMLEDF",
        "outputId": "03d8b5cb-1b4e-4cf9-bde7-e8beafff6b30"
      },
      "source": [
        "X_train,X_test,y_train,y_test=train_test_split(features,response,test_size=0.3,random_state=70)\n",
        "print(\"The number of deaths (positive cases) in our training dataset is: \"+str(round(((y_train.sum())/len(y_train))*100,2))+\"%\")\n",
        "print()\n",
        "print(\"The number of deaths (positive cases) in our testing dataset is: \"+str(round(((y_test.sum())/len(y_test))*100,2))+\"%\")\n",
        "print()\n",
        "classifier=LogisticRegression(max_iter=1000)\n",
        "\n",
        "#Train our logistic regression model on the training data\n",
        "classifier.fit(X_train,y_train)\n",
        "\n",
        "#Evaluate the performance of the trained logistic regression model on the testing data\n",
        "predictions=list(classifier.predict(X_test))\n",
        "actual=list(y_test)\n",
        "\n",
        "#Calculate the balanced accuracy score of our testing data\n",
        "AccScore=metrics.balanced_accuracy_score(actual, predictions)\n",
        "print(\"The model's balanced accuracy on the testing data is: \"+str(round(AccScore*100,2))+\"%\")"
      ],
      "execution_count": null,
      "outputs": [
        {
          "output_type": "stream",
          "text": [
            "The number of deaths (positive cases) in our training dataset is: 33.49%\n",
            "\n",
            "The number of deaths (positive cases) in our testing dataset is: 28.89%\n",
            "\n",
            "The model's balanced accuracy on the testing data is: 65.32%\n"
          ],
          "name": "stdout"
        }
      ]
    },
    {
      "cell_type": "markdown",
      "metadata": {
        "id": "ZDDUfZgiLcHc"
      },
      "source": [
        "Here we see the opposite: the training dataset had a greater percentage of deaths than did the testing dataset. Hence we would expect better balanced accuracy for the testing dataset."
      ]
    },
    {
      "cell_type": "markdown",
      "metadata": {
        "id": "q6cobnTXKAIo"
      },
      "source": [
        "Thus, even though our model performed well on this simple dataset for the testing partition, because of the sensitivity to the random seed it may not generalize well to other testing partitions.\n",
        "\n",
        "Thus, we want to come up with a method that will use as much of our limited data as possible but is not sensitive to how we split the data into training and testing"
      ]
    },
    {
      "cell_type": "markdown",
      "metadata": {
        "id": "YIpb5231pd9_"
      },
      "source": [
        "## Implementing K-Fold Cross Validation"
      ]
    },
    {
      "cell_type": "markdown",
      "metadata": {
        "id": "gnetILUPtNYS"
      },
      "source": [
        "Recall that we are working with the *df* dataset, which is the entire dataset but with the time variable removed.\n",
        "\n",
        "The benefit of cross validation is that rather than doing a training and testing split, which reduces the amount of data we can work with (building a model with 210 records), we will build a model which uses the entire dataset (299 records).\n",
        "\n",
        "Note: We do not have a testing dataset in this method. Once we perform cross validation we will get a *cross validated* balanced accuracy rate. This will be our \"test\" evaluation metric."
      ]
    },
    {
      "cell_type": "code",
      "metadata": {
        "id": "Th0SP5wzph_Z"
      },
      "source": [
        "#We will implement the KFold module which will allow us to do K-Fold Cross Validation\n",
        "from sklearn.model_selection import KFold\n",
        "\n",
        "#We will call the KFold object. It has the following specified arguments\n",
        "#1. n_splits: How many folds do you want?\n",
        "#2. Do you want to shuffle your data before you perform the k-fold partitioning?\n",
        "#3. If you want to shuffle your data, provide a random seed to help shuffle your data.\n",
        "kf=KFold(n_splits=10,shuffle=True,random_state=295)\n",
        "\n",
        "#When doing k-fold cross validation we will get k test datasets. Let's see what data each test dataset includes.\n",
        "foldNumber=1\n",
        "for train_set,test_set in kf.split(X=features):\n",
        "  print(\"Row indices of the testing dataset from fold: \"+str(foldNumber))\n",
        "  print(test_set)\n",
        "  print()\n",
        "  print(\"Number of observations in the test dataset is: \"+str(test_set.shape[0]))\n",
        "  print()\n",
        "  foldNumber+=1"
      ],
      "execution_count": null,
      "outputs": []
    },
    {
      "cell_type": "markdown",
      "metadata": {
        "id": "8dgKGJvVqeqC"
      },
      "source": [
        "For example, the first testing dataset is the list of indices specified under Fold:1. This means that from our dataset df the first observation of the first testing dataset is the 0th row of our df dataset. See the cell below for what this actually means"
      ]
    },
    {
      "cell_type": "code",
      "metadata": {
        "id": "2Sjl0xhBpoi_"
      },
      "source": [
        "#Get the first observation from the first test dataset (from fold 1)\n",
        "df.iloc[0]"
      ],
      "execution_count": null,
      "outputs": []
    },
    {
      "cell_type": "markdown",
      "metadata": {
        "id": "lAYph4xDEXRC"
      },
      "source": [
        "Build the Cross Validated Logistic Regression Model. These are the testing balanced accuracies for each fold. To get the overall cross validated testing balanced accuracy we will average the balanced testing accuracies across all folds"
      ]
    },
    {
      "cell_type": "code",
      "metadata": {
        "id": "TIed6xCHrNyN"
      },
      "source": [
        "from sklearn.model_selection import cross_val_score\n",
        "import numpy as np\n",
        "clf=LogisticRegression(random_state=0,max_iter=1000)\n",
        "results = cross_val_score(clf, features, response, cv=kf,scoring=\"balanced_accuracy\")\n",
        "for i in range(0,10):\n",
        "  print(\"The testing balanced accuracy for the test partition of the \"+str(i+1)+\" fold: \"+str(round(results[i]*100,2))+\"%\")\n",
        "print()\n",
        "print()\n",
        "print(\"The Cross Validated balanced accuracy is: \"+str(round(results.mean(),2))+ \" with a standard deviation of: \"+str(round(np.std(results),2)))"
      ],
      "execution_count": null,
      "outputs": []
    },
    {
      "cell_type": "markdown",
      "metadata": {
        "id": "7HD9X4MYHF-f"
      },
      "source": [
        "Hence, our **Cross Validated balanced accuracy = 63%**. This balanced accuracy is determined from testing **all** the data, rather than testing a subset of our total data."
      ]
    },
    {
      "cell_type": "markdown",
      "metadata": {
        "id": "G0T2WJP_NbYv"
      },
      "source": [
        "## Implementing Repeated K-Fold Cross Validation"
      ]
    },
    {
      "cell_type": "markdown",
      "metadata": {
        "id": "j6kzL3u8OebD"
      },
      "source": [
        "In order to have more confidence in our cross validated performance metric, we can run K-Fold cross validation multiple times.\n",
        "For example, if we want to run a 5 fold cross validation 3 times we will run the 5 fold CV once and get the average balanced accuracy, run it once more and get the average balanced accuracy, and run it once again and get the average balanced accuracy. We then average all three balanced accuracies and get the overall repeated 5-fold cross validation balanced accuracy."
      ]
    },
    {
      "cell_type": "code",
      "metadata": {
        "id": "JRNBvWCVPFP1"
      },
      "source": [
        "from sklearn.model_selection import RepeatedKFold\n",
        "#Create a repeated K-Fold object which contains\n",
        "#1. How many folds you want\n",
        "#2. How many times you want to run the k-fold cross validation\n",
        "#3. A random seed that has the sole purpose of shuffling your data.\n",
        "\n",
        "#Note that the purpose of the random seed in cross validation is different than\n",
        "#in the traditional train/test split.\n",
        "\n",
        "rkf=RepeatedKFold(n_splits=10,n_repeats=3,random_state=295)\n",
        "\n",
        "#Create the classifier\n",
        "clf=LogisticRegression(random_state=0,max_iter=1000)\n",
        "\n",
        "#Get the n_splits*n_repeats balanced accuracy results\n",
        "results = cross_val_score(clf, features, response, cv=rkf,scoring=\"balanced_accuracy\")\n",
        "results=list(results)\n",
        "\n",
        "i=1\n",
        "n_splits=10\n",
        "n_repeats=3\n",
        "start=0\n",
        "end=n_splits-1\n",
        "while i<=n_repeats:\n",
        "   avg_balancedAcc=np.mean(results[start:end])\n",
        "   print(\"The average balanced accuracy for iteration: \"+str(i)+\" of 10 fold cross validation is: \"+str(round(avg_balancedAcc,2)))\n",
        "   start=end+1\n",
        "   end+=n_splits-1\n",
        "   i+=1\n",
        "\n",
        "print(\"%0.2f accuracy with a standard deviation of %0.2f\" % (np.mean(results), np.std(results)))"
      ],
      "execution_count": null,
      "outputs": []
    },
    {
      "cell_type": "markdown",
      "metadata": {
        "id": "mqCzLPkfTMIH"
      },
      "source": [
        "Notice that the balanced accuracy is the same of that from K-Fold cross validation but the standard deviation has come down. Hence we are more confident in our cross validated balanced accuracy"
      ]
    },
    {
      "cell_type": "markdown",
      "metadata": {
        "id": "uc7loB_OTYov"
      },
      "source": [
        "## Stratified K-Fold Cross Validation"
      ]
    },
    {
      "cell_type": "markdown",
      "metadata": {
        "id": "Q1pZAmU-TfX9"
      },
      "source": [
        "Recall that a problem we have with unbalanced data is that if our data is too unbalanced then our model may not perform optimally. For example, if we have 90% non-deaths in our dataset and only 10% deaths then the classifier will not be able to predict deaths well. While this issue is mitigated in K-Fold cross validation we can introduce another condition that every fold in the K-Fold cross validation must contain roughly equal proportions of deaths. We can easily implement this in Python as follows:"
      ]
    },
    {
      "cell_type": "code",
      "metadata": {
        "id": "twSdvAjZQR_c"
      },
      "source": [
        "from sklearn.model_selection import StratifiedKFold\n",
        "skf = StratifiedKFold(n_splits=10,shuffle=True,random_state=295)\n",
        "results = cross_val_score(clf, features, response, cv=skf,scoring=\"balanced_accuracy\")\n",
        "for i in range(0,10):\n",
        "  print(\"The testing balanced accuracy for the test partition of the \"+str(i+1)+\" fold: \"+str(round(results[i]*100,2))+\"%\")\n",
        "\n",
        "print(\"The Cross Validated balanced accuracy is: \"+str(round(results.mean(),2))+ \" with a standard deviation of: \"+str(round(np.std(results),2)))"
      ],
      "execution_count": null,
      "outputs": []
    },
    {
      "cell_type": "markdown",
      "metadata": {
        "id": "PUSTI6ITB6ZN"
      },
      "source": [
        "We see that the percentage of deaths in each testing fold isn't exactly the same. However they are close."
      ]
    },
    {
      "cell_type": "code",
      "metadata": {
        "id": "Hf1BdYp0BUgW"
      },
      "source": [
        "print(\"The Cross Validated balanced accuracy is: \"+str(round(results.mean(),2))+ \" with a standard deviation of: \"+str(round(np.std(results),2)))"
      ],
      "execution_count": null,
      "outputs": []
    },
    {
      "cell_type": "markdown",
      "metadata": {
        "id": "XolzUU12UkfI"
      },
      "source": [
        "Here we get approximately the same balanced accuracy cross validated score but with a lower standard deviation. Hence we have more confidence in our accuracy score here."
      ]
    },
    {
      "cell_type": "markdown",
      "metadata": {
        "id": "8UnbKZW9UvlQ"
      },
      "source": [
        "## Implementing Repeated Stratified K-Fold Cross Validation"
      ]
    },
    {
      "cell_type": "markdown",
      "metadata": {
        "id": "8DWYAOGAUzPF"
      },
      "source": [
        "Just like with repeated K-Fold cross validation, we can do the same with stratified cross validation"
      ]
    },
    {
      "cell_type": "code",
      "metadata": {
        "id": "DaPJFyedUbu-"
      },
      "source": [
        "from sklearn.model_selection import RepeatedStratifiedKFold\n",
        "rskf=RepeatedStratifiedKFold(n_splits=5,n_repeats=3,random_state=295)\n",
        "clf=LogisticRegression(random_state=0,max_iter=1000)\n",
        "results = cross_val_score(clf, features, response, cv=rskf,scoring=\"balanced_accuracy\")\n",
        "#print(results)\n",
        "print(\"%0.2f accuracy with a standard deviation of %0.2f\" % (results.mean(), results.std()))\n",
        "#Note that we get slightly higher accuracy here."
      ],
      "execution_count": null,
      "outputs": []
    },
    {
      "cell_type": "markdown",
      "metadata": {
        "id": "awKz5tFIVY4_"
      },
      "source": [
        "# Cross Validation Application #2: Using for Hyperparameter Optimization"
      ]
    },
    {
      "cell_type": "markdown",
      "metadata": {
        "id": "FPXeetU5WM69"
      },
      "source": [
        "Hyperparameters are model settings that help the Python algorithm find the optimal model for your algorithm.\n",
        "For example, so far we have been using logistic regression and every time we specified a *max_iter* parameter which indicates how long the LogisticRegression function must run for to find the optimal model for our data. This *max_iter* value is a hyperparameter.\n",
        "\n",
        "Hyperparameters are extremely important in model building. In this example,\n",
        "1. If we choose a *max_iter* value that is too small the algorithm will either return an error or give us a model that is not optimized to our data.\n",
        "2. If we choose a *max_iter* value that is too large then the algorithm will take longer than necessary to find the optimal model for our data. On larger and larger datasets that take longer to process, having too large of a *max_iter* value is incredibly wasteful.\n",
        "\n",
        "So how do we come up with the right hyperparameter values? By using Cross Validation"
      ]
    },
    {
      "cell_type": "markdown",
      "metadata": {
        "id": "TvjPSWlBXvYJ"
      },
      "source": [
        "Since there aren't many hyperparameters we can play with in Logistic Regression, let's consider the XGBoost classification algorithm. This is an adaptive tree-based algorithm (like a decision tree) that can be used for both regression and classification problems. There are many hyperparameters that are associated with XGBoost but we will focus on the following three:\n",
        "1. **n_estimators**: How many decision trees should be created during XGBoost? A small number of trees will underfit our data and we won't be able to classify correctly.\n",
        "2. **max_depth**: How deep should each tree be? A deeper tree is more complex, which has the potential to overfit and to be computationally expensive. A shallow tree will underfit and yield poor classification results\n",
        "3.**learning_rate:** This is a separate discussion entirely but essentially too low of a learning rate means the algorithm will take too long to find the optimal solution. Too high of a learning rate means the algorithm may entirely miss the solution."
      ]
    },
    {
      "cell_type": "markdown",
      "metadata": {
        "id": "_-9GS9qNZLyE"
      },
      "source": [
        "We will first set up a grid of possible values for our hyperparameters. We define this grid and provide those possible values"
      ]
    },
    {
      "cell_type": "code",
      "metadata": {
        "id": "5wYgrhh8U8Sg"
      },
      "source": [
        "parameters = {\n",
        "    'max_depth': [6, 8,10,12],\n",
        "    'n_estimators': [25,50,70, 85],\n",
        "    'learning_rate': [0.1,0.15,0.25, 0.5, 0.7]\n",
        "}"
      ],
      "execution_count": null,
      "outputs": []
    },
    {
      "cell_type": "markdown",
      "metadata": {
        "id": "hCoMRKMiZXlz"
      },
      "source": [
        "Essentially we want to try different combinations of these hyperparameters to see how high of a balanced accuracy we can get. We will be building a separate model for each combination of hyperparameters.\n",
        "\n",
        "Once we find the model that gives us the highest balanced accuracy we save those model's hyperparameters and call those the **best/optimized hyperparameters**"
      ]
    },
    {
      "cell_type": "markdown",
      "metadata": {
        "id": "jGoSjXQoZvht"
      },
      "source": [
        "How do we come up with the total number of hyperparameter combinations? We will do a simple permutation:\n",
        "1. There are 4 possible values for max_depth\n",
        "2. There are 4 possible values for n_estimators\n",
        "3. There are 5 possible values for learning_rate\n",
        "\n",
        "Hence there are  4 * 4 * 5= 80 combinations of hyperparameter settings.\n",
        "\n",
        "Note: There are different ways of coming up with hyperparameter optimizations. This is the brute force way, which is the easiest to understand. However there are other methods such as randomized search and Bayesian optimization, which rely more heavily on probability distributions."
      ]
    },
    {
      "cell_type": "markdown",
      "metadata": {
        "id": "S8N4Y_j7aWV-"
      },
      "source": [
        "In order to get better hyperparameter optimization we can introduce cross validation. Essentially for each fold we will be running the total number of hyperparameter combinations. In this example with the hyperparameter combinations defined above, if we are doing a 5-fold CV hyperparameter optimization then for each of the 5 fold we will be building 80 models. This will amount to 400 total model fits.\n",
        "\n",
        "We will then find the model with the highest balanced accuracy, save that model's hyperparameters and call those the **best/optimized hyperparameters**."
      ]
    },
    {
      "cell_type": "markdown",
      "metadata": {
        "id": "53DGKAHbbqJY"
      },
      "source": [
        "Let's now apply CV Hyperparameter optimization to our data using an XGBoost model"
      ]
    },
    {
      "cell_type": "code",
      "metadata": {
        "id": "lnkQk6boZuht"
      },
      "source": [
        "#Import the XGBoost classifier object\n",
        "from xgboost import XGBClassifier\n",
        "from sklearn.model_selection import GridSearchCV\n",
        "\n",
        "\n",
        "xgbmodel=XGBClassifier()\n",
        "\n",
        "#This will be the object where Python will perform the optimization. We specify the following:\n",
        "#1. estimator: What model you want to use? Here we are using an XGBoost model\n",
        "#2. param_grid: the possible values for our hyperparameters. We defined this above.\n",
        "#3. scoring: What model evaluation metric do you want to use?\n",
        "#4. n_jobs: has to do with parallel processing and computational speed. Since we don't have that much data we will set this to 1\n",
        "#5. cv: How many folds do you want to use in this hyperparameter optimization? We will set this to 10 for consistency\n",
        "grid_search = GridSearchCV(\n",
        "    estimator=xgbmodel,\n",
        "    param_grid=parameters,\n",
        "    scoring='balanced_accuracy',\n",
        "    n_jobs=1,\n",
        "    cv=10,\n",
        "    verbose=4\n",
        ")"
      ],
      "execution_count": null,
      "outputs": []
    },
    {
      "cell_type": "markdown",
      "metadata": {
        "id": "htjIuhGedPg5"
      },
      "source": [
        "Note:\n",
        "1. We are running 80 combinations of hyperparameters on each fold. Hence we are running 400 models.\n",
        "2. For the cv argument you can also provide an object. For example, if you want to do stratified 10-Fold cross validation you can define a stratified kfold object such as \"skf = StratifiedKFold(n_splits=10,shuffle=True,random_state=295)\" and put \"skf\" in place of 10 in the cv argument above."
      ]
    },
    {
      "cell_type": "code",
      "metadata": {
        "id": "d8by95eVcmDn"
      },
      "source": [
        "optimizedModel=grid_search.fit(features, response)\n",
        "print(\"----------------------------------------------------------------------\")\n",
        "# Obtain the optimal hyperparameters\n",
        "optimizedHyperParameters = grid_search.best_estimator_\n",
        "print()\n",
        "print(\"The optimal hyperparameters obtained from the grid search are the following: \")\n",
        "print()\n",
        "print(\"Optimal maximum depth of each decision tree: \"+str(optimizedHyperParameters.max_depth))\n",
        "print(\"Optimal number of sequential decision trees being created during training: \"+str(optimizedHyperParameters.n_estimators))\n",
        "print(\"Optimal Learning rate: \"+str(optimizedHyperParameters.learning_rate))\n",
        "print()"
      ],
      "execution_count": null,
      "outputs": []
    },
    {
      "cell_type": "markdown",
      "metadata": {
        "id": "Osw1usXFfPJq"
      },
      "source": [
        "Note that you will get a total of 400 different combinations of hyperparameter settings and the balanced accuracy score associated with using that combination of hyperparameters"
      ]
    },
    {
      "cell_type": "markdown",
      "metadata": {
        "id": "zy5hkgofdznI"
      },
      "source": [
        "Hence, this grid search determined that the model with the following hyperparameters:\n",
        "1. max_depth=6\n",
        "2. n_estimators=70\n",
        "3. learning_rate=0.15\n",
        "\n",
        "yielded the highest balanced accuracy."
      ]
    },
    {
      "cell_type": "markdown",
      "metadata": {
        "id": "mCgk_UFmD04h"
      },
      "source": [
        "We can be in two situations\n",
        "\n",
        "1. Let's say we had data from 10,000 people and thus could have a train and test dataset. We would do hyperparameter optimization on all the training data, build a model using the training data with those hyperparameters and then evaluate the performance of that model on the testing dataset\n",
        "2. Let's say we only have the 300 observations like we have been working with above. We would build a main model on all 300 records but with the optimized hyperparameters. The model performance will be the cross validated model performance."
      ]
    }
  ]
}